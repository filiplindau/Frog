{
 "cells": [
  {
   "cell_type": "code",
   "execution_count": 2,
   "metadata": {
    "collapsed": true
   },
   "outputs": [],
   "source": [
    "import FrogSimulatePulseNC as sp\n"
   ]
  },
  {
   "cell_type": "code",
   "execution_count": 3,
   "metadata": {
    "collapsed": true
   },
   "outputs": [],
   "source": [
    "N = 256\n",
    "dt = 10e-15\n",
    "l0 = 263.5e-9\n",
    "tau_pulse = 100e-15"
   ]
  },
  {
   "cell_type": "code",
   "execution_count": 4,
   "metadata": {
    "collapsed": true
   },
   "outputs": [],
   "source": [
    "p = sp.SimulatedPulse(N, dt, l0, tau_pulse)\n",
    "p.generateGaussianCubicSpectralPhase(0.5e-27, 1.0e-40)"
   ]
  },
  {
   "cell_type": "code",
   "execution_count": 6,
   "metadata": {
    "collapsed": true
   },
   "outputs": [],
   "source": [
    "gt = sp.SimulatedFrogTrace(N, dt, l0)\n",
    "gt.pulse = p"
   ]
  },
  {
   "cell_type": "code",
   "execution_count": null,
   "metadata": {
    "collapsed": true
   },
   "outputs": [],
   "source": [
    "IfrogSHG = gt.generateSHGTraceDt(N, dt, l0 / 2)\n",
    "IfrogSD = gt.generateSDTraceDt(N, dt, l0)\n",
    "IfrogPG = gt.generatePGTraceDt(N, dt, l0)"
   ]
  }
 ],
 "metadata": {
  "anaconda-cloud": {},
  "kernelspec": {
   "display_name": "Python [Root]",
   "language": "python",
   "name": "Python [Root]"
  },
  "language_info": {
   "codemirror_mode": {
    "name": "ipython",
    "version": 2
   },
   "file_extension": ".py",
   "mimetype": "text/x-python",
   "name": "python",
   "nbconvert_exporter": "python",
   "pygments_lexer": "ipython2",
   "version": "2.7.12"
  }
 },
 "nbformat": 4,
 "nbformat_minor": 0
}
